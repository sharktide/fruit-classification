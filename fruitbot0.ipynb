{
  "cells": [
    {
      "cell_type": "code",
      "execution_count": 1,
      "metadata": {
        "colab": {
          "base_uri": "https://localhost:8080/"
        },
        "id": "8GPF_BjYa4be",
        "outputId": "1b8be672-45cd-46dd-c601-c4fa4e6574c1"
      },
      "outputs": [
        {
          "name": "stdout",
          "output_type": "stream",
          "text": [
            "Path to dataset files: /kaggle/input/fruits\n"
          ]
        }
      ],
      "source": [
        "import kagglehub\n",
        "\n",
        "# Download latest version\n",
        "path = kagglehub.dataset_download(\"moltean/fruits\")\n",
        "\n",
        "print(\"Path to dataset files:\", path)"
      ]
    },
    {
      "cell_type": "code",
      "execution_count": null,
      "metadata": {
        "colab": {
          "base_uri": "https://localhost:8080/",
          "height": 619
        },
        "id": "4tW2kV9RaBJM",
        "outputId": "04d1bb5b-81d1-4b99-a3ad-13ee6fc671fb"
      },
      "outputs": [],
      "source": [
        "import tensorflow as tf\n",
        "\n",
        "from tensorflow.keras.mixed_precision import set_global_policy\n",
        "set_global_policy('mixed_float16')\n",
        "\n",
        "\n",
        "import numpy as np\n",
        "import os\n",
        "import pathlib\n",
        "from tensorflow.keras import layers, models\n",
        "from tensorflow.keras.applications import ResNet50\n",
        "from sklearn.utils import class_weight\n",
        "\n",
        "# Set image dimensions\n",
        "img_height = 240\n",
        "img_width = 240\n",
        "batch_size = 32\n",
        "\n",
        "str_path = '/kaggle/input/fruits/fruits-360_original-size/fruits-360-original-size/Training'\n",
        "data_dir_train = pathlib.Path(str_path)\n",
        "\n",
        "str_path = '/kaggle/input/fruits/fruits-360_original-size/fruits-360-original-size/Test'\n",
        "data_dir_val = pathlib.Path(str_path)\n",
        "\n",
        "# str_path = '/root/.cache/kagglehub/datasets/moltean/fruits/versions/32/fruits-360_original-size/fruits-360-original-size/Training'\n",
        "# data_dir_train = pathlib.Path(str_path)\n",
        "\n",
        "# str_path = '/root/.cache/kagglehub/datasets/moltean/fruits/versions/32/fruits-360_original-size/fruits-360-original-size/Test'\n",
        "# data_dir_val = pathlib.Path(str_path)\n",
        "\n",
        "# Load the datasets without applying cache/prefetch initially\n",
        "train_ds = tf.keras.utils.image_dataset_from_directory(\n",
        "    data_dir_train,\n",
        "    seed=123,\n",
        "    image_size=(img_height, img_width),\n",
        "    batch_size=batch_size\n",
        ")\n",
        "\n",
        "val_ds = tf.keras.utils.image_dataset_from_directory(\n",
        "    data_dir_val,\n",
        "    seed=123,\n",
        "    image_size=(img_height, img_width),\n",
        "    batch_size=batch_size\n",
        ")\n",
        "\n",
        "# Access class_names before any dataset transformation\n",
        "class_names = train_ds.class_names\n",
        "print(class_names)\n",
        "\n",
        "data_augmentation = tf.keras.Sequential([\n",
        "    layers.RandomFlip('horizontal'),\n",
        "    layers.RandomRotation(0.2),\n",
        "    layers.RandomContrast(0.2),\n",
        "])\n",
        "train_ds = train_ds.map(lambda x, y: (data_augmentation(x, training=True), y))\n",
        "\n",
        "\n",
        "train_ds = train_ds.map(lambda x, y: (data_augmentation(x, training=True), y))\n",
        "\n",
        "\n",
        "# Apply caching and prefetching\n",
        "AUTOTUNE = tf.data.AUTOTUNE\n",
        "train_ds = train_ds.prefetch(buffer_size=AUTOTUNE)\n",
        "val_ds = val_ds.prefetch(buffer_size=AUTOTUNE)\n",
        "\n",
        "num_classes = 60\n",
        "# Define the base pre-trained model (MobileNet)\n",
        "\n",
        "# Define the base pre-trained model\n",
        "base_model = ResNet50(weights='imagenet', include_top=False, input_shape=(img_height, img_width, 3))\n",
        "\n",
        "# Freeze the base model\n",
        "base_model.trainable = False\n",
        "\n",
        "# Create the custom model on top of the pre-trained model\n",
        "model = models.Sequential([\n",
        "    base_model,  # Pre-trained ResNet50 model\n",
        "    layers.GlobalAveragePooling2D(),\n",
        "    layers.Dense(512, activation='relu'),\n",
        "    layers.BatchNormalization(),\n",
        "    layers.Dropout(0.5),\n",
        "    layers.Dense(num_classes, activation='softmax')  # Output layer with softmax\n",
        "])\n",
        "\n",
        "lr_schedule = tf.keras.optimizers.schedules.ExponentialDecay(\n",
        "    initial_learning_rate=0.001,\n",
        "    decay_steps=10000,\n",
        "    decay_rate=0.9)\n",
        "\n",
        "# Compile the model\n",
        "model.compile(optimizer=tf.keras.optimizers.Adam(),\n",
        "              loss='sparse_categorical_crossentropy',\n",
        "              metrics=['accuracy']\n",
        "              )\n",
        "\n",
        "# Callbacks\n",
        "callbacksUsed = [\n",
        "    tf.keras.callbacks.ModelCheckpoint('best_model.keras', save_best_only=True, monitor='val_loss'),\n",
        "    tf.keras.callbacks.EarlyStopping(monitor='val_loss', patience=10, restore_best_weights=True),\n",
        "    tf.keras.callbacks.ReduceLROnPlateau(monitor='val_loss', factor=0.2, patience=5, min_lr=0.00001)\n",
        "]\n",
        "\n",
        "# Train the model\n",
        "model.fit(\n",
        "    train_ds,\n",
        "    validation_data=val_ds,\n",
        "    epochs=30,\n",
        "    callbacks=callbacksUsed\n",
        ")\n",
        "\n",
        "# Unfreeze some layers for fine-tuning\n",
        "base_model.trainable = True\n",
        "for layer in base_model.layers[:50]:  # Adjust the number of layers to freeze if necessary\n",
        "    layer.trainable = False\n",
        "\n",
        "model.compile(optimizer=tf.keras.optimizers.Adam(learning_rate=0.00001),\n",
        "              loss='sparse_categorical_crossentropy',\n",
        "              metrics=['accuracy'])\n",
        "\n",
        "# Fine-tune the model\n",
        "model.fit(\n",
        "    train_ds,\n",
        "    validation_data=val_ds,\n",
        "    epochs=15\n",
        ")\n",
        "\n",
        "# Save the fine-tuned model\n",
        "model.save('tf_model.keras')\n",
        "print(\"Transfer learning with ResNet50 completed and model saved.\")\n"
      ]
    },
    {
      "cell_type": "code",
      "execution_count": null,
      "metadata": {
        "id": "AGolIbDhc3cN"
      },
      "outputs": [],
      "source": [
        "from google.colab import drive\n",
        "drive.mount('/content/drive')"
      ]
    }
  ],
  "metadata": {
    "accelerator": "GPU",
    "colab": {
      "gpuType": "T4",
      "provenance": []
    },
    "kernelspec": {
      "display_name": "Python 3",
      "name": "python3"
    },
    "language_info": {
      "name": "python"
    }
  },
  "nbformat": 4,
  "nbformat_minor": 0
}
